{
  "nbformat": 4,
  "nbformat_minor": 0,
  "metadata": {
    "colab": {
      "name": "Varyans_Bernoulli_Binomials.ipynb",
      "version": "0.3.2",
      "provenance": [],
      "collapsed_sections": [
        "D5l6M3eG2vr2"
      ],
      "include_colab_link": true
    },
    "kernelspec": {
      "name": "python3",
      "display_name": "Python 3"
    }
  },
  "cells": [
    {
      "cell_type": "markdown",
      "metadata": {
        "id": "view-in-github",
        "colab_type": "text"
      },
      "source": [
        "<a href=\"https://colab.research.google.com/github/muhammedergun/Varyans_bernoulli_binomials/blob/master/Varyans_Bernoulli_Binomials.ipynb\" target=\"_parent\"><img src=\"https://colab.research.google.com/assets/colab-badge.svg\" alt=\"Open In Colab\"/></a>"
      ]
    },
    {
      "cell_type": "markdown",
      "metadata": {
        "id": "cBZxmodshw9V",
        "colab_type": "text"
      },
      "source": [
        "# Bernoulli ve Binomial Örneği"
      ]
    },
    {
      "cell_type": "markdown",
      "metadata": {
        "id": "RVTl34y-0eac",
        "colab_type": "text"
      },
      "source": [
        "# Bernoulli"
      ]
    },
    {
      "cell_type": "markdown",
      "metadata": {
        "id": "hVoeEJL_0jVW",
        "colab_type": "text"
      },
      "source": [
        "Bir deneyde basarı ve basarısızlık diye nitelendirilen iki sonuçla ilgilenildiginde bu deneye (iki sonuçlu) Bernoulli deneyi denir.\n",
        "\n",
        "Bernouli Dağılımının olasılık fonksiyonu:\n",
        "\n",
        "P ( X = x ) = p^x(1 – p)^1-x , x = 0, 1\n",
        "\n",
        "şeklinde gösterilir."
      ]
    },
    {
      "cell_type": "markdown",
      "metadata": {
        "id": "D5l6M3eG2vr2",
        "colab_type": "text"
      },
      "source": [
        "## Bir öğrenci İstatistik dersinden geçme olasılığının 0.7 olduğuna inanmaktadır. Olasılık dağılımının fonksiyonunu yazınız? Ortalamasını ve varyansını bulunuz?\n"
      ]
    },
    {
      "cell_type": "markdown",
      "metadata": {
        "id": "ZFOC9LM3218L",
        "colab_type": "text"
      },
      "source": [
        "Olasılık dağılım fonksiyonu:\n",
        "\n",
        "P ( X = x ) = p^x(1 – p)^1-x = 0.7^x (1-0.7)^(1-x) = (0.7^x) * (0.3^(1-x))\n",
        "\n",
        " olarak bulunur.\n",
        " \n",
        "P ( x = 1 ) = p^1 (1 – p)^1-1 = 0.7^1 * 0.3^0= 0.7\n",
        " \n",
        "P ( x = 0 ) = p^0 (1 – p)^1-0 = 0.7^0 * (1 – 0.7)^1= 0.7^0 * 0.3^1= 0.3\n",
        "\n",
        "Ortalaması:\n",
        "\n",
        "µx = E (X) = 0 x (1-p) + 1 x p = p\n",
        "\n",
        "Varyans: \n",
        "\n",
        "E(X^2)=0 x 0 x (1-p) + 1 x 1 x p = p\n",
        "\n",
        "Var(X)  = E(X^2)-E(X)^2  =  p - p*p = 0.7-0.49= 0.21 "
      ]
    },
    {
      "cell_type": "code",
      "metadata": {
        "id": "BZ-FWTED7bQA",
        "colab_type": "code",
        "colab": {
          "base_uri": "https://localhost:8080/",
          "height": 102
        },
        "outputId": "de4828f9-2ef7-471f-90a9-505af32b2f75"
      },
      "source": [
        "p=0.7\n",
        "\n",
        "pX1=p**1 * (1-p)**0\n",
        "pX0=p**0 * (1-p)**1\n",
        "\n",
        "print(\"PX1= %s\" %(pX1))\n",
        "print(\"PX0= %s\" %(pX0))\n",
        "\n",
        "ort = 0*(1-p) + 1*p\n",
        "\n",
        "Exx = 0*0*(1-p)+1*1*p\n",
        "\n",
        "varx= Exx-ort**2\n",
        "\n",
        "print(\"Ortalama = E[X] = %s\" %ort)\n",
        "print(\"E[X^X] = %s\" %Exx)\n",
        "print(\"Var(X) = E[X^X] - E[X]*E[X] = %s\" %varx)\n",
        "\n",
        "\n",
        "\n"
      ],
      "execution_count": 11,
      "outputs": [
        {
          "output_type": "stream",
          "text": [
            "PX1= 0.7\n",
            "PX0= 0.30000000000000004\n",
            "Ortalama = E[X] = 0.7\n",
            "E[X^X] = 0.7\n",
            "Var(X) = E[X^X] - E[X]*E[X] = 0.21000000000000002\n"
          ],
          "name": "stdout"
        }
      ]
    },
    {
      "cell_type": "markdown",
      "metadata": {
        "id": "Cvh4o_b6-28F",
        "colab_type": "text"
      },
      "source": [
        "# Binomial"
      ]
    },
    {
      "cell_type": "markdown",
      "metadata": {
        "id": "qwBas-fE-8Gq",
        "colab_type": "text"
      },
      "source": [
        "Basarı olasılıgı p olan bir Bernoulli denemesinin aynı sartlar altında (bagımsız olarak) n kez tekrarlanması ile olusan deneydir.\n",
        "\n",
        "x ratgele değişkenin binomial dağılımı: \n",
        "\n",
        "X~Bin(n,p)\n",
        "\n",
        "şeklindedir.\n",
        "\n",
        "Binomial dagılımının olasılık fonksiyonu:\n",
        "\n",
        "P(X = k) = p^k (1-p)^(n-k), k = 0,1, … , n\n",
        "\n",
        "şeklinde gösterilir.\n",
        "\n",
        "Ortalama = E[X] = np\n",
        "\n",
        "Var(X) = np(1-p)"
      ]
    },
    {
      "cell_type": "markdown",
      "metadata": {
        "id": "3_Lm1fXu_8zP",
        "colab_type": "text"
      },
      "source": [
        "## Bir ameliyathanede ameliyatın başarılı olma olasılığı 0.8 olduğu düşünülmektedir.\n",
        "## a)En az 9 hastanın iyilesme olasılıgı kaçtır?\n",
        "## b)Ameliyatı basarı ile sonuçlanacak hastaların beklenen sayısı ve varyansı kaçtır?\n",
        "\n"
      ]
    },
    {
      "cell_type": "markdown",
      "metadata": {
        "id": "0UGP7fyYAlEK",
        "colab_type": "text"
      },
      "source": [
        "**a)** \n",
        "\n",
        "X~Bin( n=10 , p=0.8 )\n",
        "\n",
        "P(x>=9)=P(x=9) + P(x=10)\n",
        "\n",
        "P(x=9) = ( 10! /  (9! * (10-9)!)  ) * 0.8^9 * (1-0.8)^(10-9) = 0.2684\n",
        "\n",
        "P(x=10) = ( 10! /  (10! * (10-10)!)  ) * 0.8^10 * (1-0.8)^(10-10) =0.1073\n",
        "\n",
        "0.2684 + 0.1073 = 0.3767\n",
        "\n",
        "**b)**\n",
        "\n",
        "E[x] = np = 10*0.8 =8\n",
        "\n",
        "Var(X)=np(1-p) = 10*0.8*0.2=1.6\n",
        "\n"
      ]
    },
    {
      "cell_type": "code",
      "metadata": {
        "id": "d7bMiB9eCpTL",
        "colab_type": "code",
        "colab": {
          "base_uri": "https://localhost:8080/",
          "height": 102
        },
        "outputId": "8884f042-7165-40d9-a5d2-d601c450d9cc"
      },
      "source": [
        "import math\n",
        "n=10\n",
        "p=0.8\n",
        "\n",
        "PX9 =( math.factorial(n) / (math.factorial(9)*math.factorial(n-9)) ) * p**9 * (1-p)**(n-9)\n",
        "PX10 =( math.factorial(n) / (math.factorial(10)*math.factorial(n-10)) ) * p**10 * (1-p)**(n-10)\n",
        "\n",
        "sonuc=PX9+PX10\n",
        "\n",
        "print(\"P(x=9) = %s\" %PX9)\n",
        "print(\"P(x=10) = %s\" %PX10)\n",
        "print(\"sonuc = %s\" %sonuc)\n",
        "\n",
        "Ex=n*p\n",
        "Varx=n*p*(1-p)\n",
        "\n",
        "print(\"E[X] = %s\" %Ex)\n",
        "print(\"Var(X) = %s\" %Varx)\n"
      ],
      "execution_count": 16,
      "outputs": [
        {
          "output_type": "stream",
          "text": [
            "P(x=9) = 0.26843545600000007\n",
            "P(x=10) = 0.10737418240000006\n",
            "sonuc = 0.37580963840000015\n",
            "E[X] = 8.0\n",
            "Var(X) = 1.5999999999999996\n"
          ],
          "name": "stdout"
        }
      ]
    }
  ]
}